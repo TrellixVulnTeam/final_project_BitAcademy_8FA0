{
 "cells": [
  {
   "cell_type": "markdown",
   "metadata": {},
   "source": [
    "# Data Engineering Project - Airplane Crashes\n",
    "\n",
    "## Introduction\n",
    "In this jupyter notebook I will explore the data that was found on Kaggle about airplane crashes to see if I can find interesting insights. This will be done with the following research questions: \n",
    "\n",
    "1. In which year were the most airplane crashes?\n",
    "2. Which top three airplane models have caused the most crashes and which airplane model the most fatalities?\n",
    "3. Which airline has caused the most death?\n",
    "4. What are the chances of surviving an airplane crashes? (a.k.a: What is the survival rate of airplane crashes?)\n",
    "5. Are airplanes getting safer, e.g. less deaths and crashes?\n",
    "\n",
    "The dataset that is being used contains data of airplane crashes, from civil and commercial to military transport worldwide from the 17th of September 1908 untill the 8th of June 2009.\n",
    "\n",
    "To conduct this research, I will need the following libraries:\n",
    "- <code>pandas</code>\n",
    "- <code>numpy</code>\n",
    "- <code>seaborn</code>\n",
    "- <code>matplotlib</code>"
   ]
  },
  {
   "cell_type": "code",
   "execution_count": 1,
   "metadata": {},
   "outputs": [],
   "source": [
    "#importing the libraries and dataset\n",
    "\n",
    "import pandas as pd \n",
    "import numpy as np \n",
    "import seaborn as sns\n",
    "import matplotlib.pyplot as plt\n",
    "\n",
    "airplanes_dataset = pd.read_csv(\"Airplane_Crashes_and_Fatalities_Since_1908.csv\")"
   ]
  },
  {
   "cell_type": "markdown",
   "metadata": {},
   "source": [
    "## Data Exploration\n",
    "To see what columns the imported dataset has, we can print <code>pandas.DataFrame.head</code>."
   ]
  },
  {
   "cell_type": "code",
   "execution_count": 2,
   "metadata": {},
   "outputs": [
    {
     "data": {
      "text/html": [
       "<div>\n",
       "<style scoped>\n",
       "    .dataframe tbody tr th:only-of-type {\n",
       "        vertical-align: middle;\n",
       "    }\n",
       "\n",
       "    .dataframe tbody tr th {\n",
       "        vertical-align: top;\n",
       "    }\n",
       "\n",
       "    .dataframe thead th {\n",
       "        text-align: right;\n",
       "    }\n",
       "</style>\n",
       "<table border=\"1\" class=\"dataframe\">\n",
       "  <thead>\n",
       "    <tr style=\"text-align: right;\">\n",
       "      <th></th>\n",
       "      <th>Date</th>\n",
       "      <th>Time</th>\n",
       "      <th>Location</th>\n",
       "      <th>Operator</th>\n",
       "      <th>Flight #</th>\n",
       "      <th>Route</th>\n",
       "      <th>Type</th>\n",
       "      <th>Registration</th>\n",
       "      <th>cn/In</th>\n",
       "      <th>Aboard</th>\n",
       "      <th>Fatalities</th>\n",
       "      <th>Ground</th>\n",
       "      <th>Summary</th>\n",
       "    </tr>\n",
       "  </thead>\n",
       "  <tbody>\n",
       "    <tr>\n",
       "      <th>0</th>\n",
       "      <td>09/17/1908</td>\n",
       "      <td>17:18</td>\n",
       "      <td>Fort Myer, Virginia</td>\n",
       "      <td>Military - U.S. Army</td>\n",
       "      <td>NaN</td>\n",
       "      <td>Demonstration</td>\n",
       "      <td>Wright Flyer III</td>\n",
       "      <td>NaN</td>\n",
       "      <td>1</td>\n",
       "      <td>2.0</td>\n",
       "      <td>1.0</td>\n",
       "      <td>0.0</td>\n",
       "      <td>During a demonstration flight, a U.S. Army fly...</td>\n",
       "    </tr>\n",
       "    <tr>\n",
       "      <th>1</th>\n",
       "      <td>07/12/1912</td>\n",
       "      <td>06:30</td>\n",
       "      <td>AtlantiCity, New Jersey</td>\n",
       "      <td>Military - U.S. Navy</td>\n",
       "      <td>NaN</td>\n",
       "      <td>Test flight</td>\n",
       "      <td>Dirigible</td>\n",
       "      <td>NaN</td>\n",
       "      <td>NaN</td>\n",
       "      <td>5.0</td>\n",
       "      <td>5.0</td>\n",
       "      <td>0.0</td>\n",
       "      <td>First U.S. dirigible Akron exploded just offsh...</td>\n",
       "    </tr>\n",
       "    <tr>\n",
       "      <th>2</th>\n",
       "      <td>08/06/1913</td>\n",
       "      <td>NaN</td>\n",
       "      <td>Victoria, British Columbia, Canada</td>\n",
       "      <td>Private</td>\n",
       "      <td>-</td>\n",
       "      <td>NaN</td>\n",
       "      <td>Curtiss seaplane</td>\n",
       "      <td>NaN</td>\n",
       "      <td>NaN</td>\n",
       "      <td>1.0</td>\n",
       "      <td>1.0</td>\n",
       "      <td>0.0</td>\n",
       "      <td>The first fatal airplane accident in Canada oc...</td>\n",
       "    </tr>\n",
       "    <tr>\n",
       "      <th>3</th>\n",
       "      <td>09/09/1913</td>\n",
       "      <td>18:30</td>\n",
       "      <td>Over the North Sea</td>\n",
       "      <td>Military - German Navy</td>\n",
       "      <td>NaN</td>\n",
       "      <td>NaN</td>\n",
       "      <td>Zeppelin L-1 (airship)</td>\n",
       "      <td>NaN</td>\n",
       "      <td>NaN</td>\n",
       "      <td>20.0</td>\n",
       "      <td>14.0</td>\n",
       "      <td>0.0</td>\n",
       "      <td>The airship flew into a thunderstorm and encou...</td>\n",
       "    </tr>\n",
       "    <tr>\n",
       "      <th>4</th>\n",
       "      <td>10/17/1913</td>\n",
       "      <td>10:30</td>\n",
       "      <td>Near Johannisthal, Germany</td>\n",
       "      <td>Military - German Navy</td>\n",
       "      <td>NaN</td>\n",
       "      <td>NaN</td>\n",
       "      <td>Zeppelin L-2 (airship)</td>\n",
       "      <td>NaN</td>\n",
       "      <td>NaN</td>\n",
       "      <td>30.0</td>\n",
       "      <td>30.0</td>\n",
       "      <td>0.0</td>\n",
       "      <td>Hydrogen gas which was being vented was sucked...</td>\n",
       "    </tr>\n",
       "  </tbody>\n",
       "</table>\n",
       "</div>"
      ],
      "text/plain": [
       "         Date   Time                            Location  \\\n",
       "0  09/17/1908  17:18                 Fort Myer, Virginia   \n",
       "1  07/12/1912  06:30             AtlantiCity, New Jersey   \n",
       "2  08/06/1913    NaN  Victoria, British Columbia, Canada   \n",
       "3  09/09/1913  18:30                  Over the North Sea   \n",
       "4  10/17/1913  10:30          Near Johannisthal, Germany   \n",
       "\n",
       "                 Operator Flight #          Route                    Type  \\\n",
       "0    Military - U.S. Army      NaN  Demonstration        Wright Flyer III   \n",
       "1    Military - U.S. Navy      NaN    Test flight               Dirigible   \n",
       "2                 Private        -            NaN        Curtiss seaplane   \n",
       "3  Military - German Navy      NaN            NaN  Zeppelin L-1 (airship)   \n",
       "4  Military - German Navy      NaN            NaN  Zeppelin L-2 (airship)   \n",
       "\n",
       "  Registration cn/In  Aboard  Fatalities  Ground  \\\n",
       "0          NaN     1     2.0         1.0     0.0   \n",
       "1          NaN   NaN     5.0         5.0     0.0   \n",
       "2          NaN   NaN     1.0         1.0     0.0   \n",
       "3          NaN   NaN    20.0        14.0     0.0   \n",
       "4          NaN   NaN    30.0        30.0     0.0   \n",
       "\n",
       "                                             Summary  \n",
       "0  During a demonstration flight, a U.S. Army fly...  \n",
       "1  First U.S. dirigible Akron exploded just offsh...  \n",
       "2  The first fatal airplane accident in Canada oc...  \n",
       "3  The airship flew into a thunderstorm and encou...  \n",
       "4  Hydrogen gas which was being vented was sucked...  "
      ]
     },
     "execution_count": 2,
     "metadata": {},
     "output_type": "execute_result"
    }
   ],
   "source": [
    "airplanes_dataset.head()"
   ]
  },
  {
   "cell_type": "markdown",
   "metadata": {},
   "source": [
    "With <code>pandas.DataFrame.info</code> we can see how many rows, columns, non-null values and memory usage. there are in total."
   ]
  },
  {
   "cell_type": "code",
   "execution_count": 3,
   "metadata": {},
   "outputs": [
    {
     "name": "stdout",
     "output_type": "stream",
     "text": [
      "<class 'pandas.core.frame.DataFrame'>\n",
      "RangeIndex: 5268 entries, 0 to 5267\n",
      "Data columns (total 13 columns):\n",
      " #   Column        Non-Null Count  Dtype  \n",
      "---  ------        --------------  -----  \n",
      " 0   Date          5268 non-null   object \n",
      " 1   Time          3049 non-null   object \n",
      " 2   Location      5248 non-null   object \n",
      " 3   Operator      5250 non-null   object \n",
      " 4   Flight #      1069 non-null   object \n",
      " 5   Route         3562 non-null   object \n",
      " 6   Type          5241 non-null   object \n",
      " 7   Registration  4933 non-null   object \n",
      " 8   cn/In         4040 non-null   object \n",
      " 9   Aboard        5246 non-null   float64\n",
      " 10  Fatalities    5256 non-null   float64\n",
      " 11  Ground        5246 non-null   float64\n",
      " 12  Summary       4878 non-null   object \n",
      "dtypes: float64(3), object(10)\n",
      "memory usage: 535.2+ KB\n"
     ]
    }
   ],
   "source": [
    "airplanes_dataset.info()"
   ]
  },
  {
   "cell_type": "markdown",
   "metadata": {},
   "source": [
    "As can be seen above the dataset consists of 5268 rows, in this case airplane crashes and 13 features:\n",
    "\n",
    "- Date\n",
    "- Time\n",
    "- Location\n",
    "- Operator\n",
    "- Flight #\n",
    "- Route\n",
    "- Type\n",
    "- Registration\n",
    "- cn/In \n",
    "- Aboard \n",
    "- Fatalities \n",
    "- Ground*\n",
    "- Summary \n",
    "\n",
    "*This column represents people who were killed by the plane on the ground/land when the plane crashed.\n",
    "\n",
    "To find whether the dataset has missing values, I will use the following:"
   ]
  },
  {
   "cell_type": "code",
   "execution_count": 4,
   "metadata": {},
   "outputs": [
    {
     "data": {
      "text/plain": [
       "Date               0\n",
       "Time            2219\n",
       "Location          20\n",
       "Operator          18\n",
       "Flight #        4199\n",
       "Route           1706\n",
       "Type              27\n",
       "Registration     335\n",
       "cn/In           1228\n",
       "Aboard            22\n",
       "Fatalities        12\n",
       "Ground            22\n",
       "Summary          390\n",
       "dtype: int64"
      ]
     },
     "execution_count": 4,
     "metadata": {},
     "output_type": "execute_result"
    }
   ],
   "source": [
    "airplanes_dataset.isnull().sum() "
   ]
  },
  {
   "cell_type": "markdown",
   "metadata": {},
   "source": [
    "## Data Cleaning\n",
    "\n",
    "As can be seen in the output above, some rows are missing, especially of the column \"Time\" (2219 out of 5268) and \"Flight #\"(4199 out of 5268). To answer the research questions, the following columns can be deleted first:\n",
    "\n",
    "- Time\n",
    "- Flight #\n",
    "- Route\n",
    "- Registration\n",
    "- cn/In \n",
    "- Summary \n",
    "\n",
    "Later on per Research Question more Data Cleaning will be done, for example getting rid of the null values."
   ]
  },
  {
   "cell_type": "code",
   "execution_count": 5,
   "metadata": {},
   "outputs": [
    {
     "data": {
      "text/html": [
       "<div>\n",
       "<style scoped>\n",
       "    .dataframe tbody tr th:only-of-type {\n",
       "        vertical-align: middle;\n",
       "    }\n",
       "\n",
       "    .dataframe tbody tr th {\n",
       "        vertical-align: top;\n",
       "    }\n",
       "\n",
       "    .dataframe thead th {\n",
       "        text-align: right;\n",
       "    }\n",
       "</style>\n",
       "<table border=\"1\" class=\"dataframe\">\n",
       "  <thead>\n",
       "    <tr style=\"text-align: right;\">\n",
       "      <th></th>\n",
       "      <th>Date</th>\n",
       "      <th>Location</th>\n",
       "      <th>Operator</th>\n",
       "      <th>Type</th>\n",
       "      <th>Aboard</th>\n",
       "      <th>Fatalities</th>\n",
       "      <th>Ground</th>\n",
       "    </tr>\n",
       "  </thead>\n",
       "  <tbody>\n",
       "    <tr>\n",
       "      <th>0</th>\n",
       "      <td>09/17/1908</td>\n",
       "      <td>Fort Myer, Virginia</td>\n",
       "      <td>Military - U.S. Army</td>\n",
       "      <td>Wright Flyer III</td>\n",
       "      <td>2.0</td>\n",
       "      <td>1.0</td>\n",
       "      <td>0.0</td>\n",
       "    </tr>\n",
       "    <tr>\n",
       "      <th>1</th>\n",
       "      <td>07/12/1912</td>\n",
       "      <td>AtlantiCity, New Jersey</td>\n",
       "      <td>Military - U.S. Navy</td>\n",
       "      <td>Dirigible</td>\n",
       "      <td>5.0</td>\n",
       "      <td>5.0</td>\n",
       "      <td>0.0</td>\n",
       "    </tr>\n",
       "    <tr>\n",
       "      <th>2</th>\n",
       "      <td>08/06/1913</td>\n",
       "      <td>Victoria, British Columbia, Canada</td>\n",
       "      <td>Private</td>\n",
       "      <td>Curtiss seaplane</td>\n",
       "      <td>1.0</td>\n",
       "      <td>1.0</td>\n",
       "      <td>0.0</td>\n",
       "    </tr>\n",
       "    <tr>\n",
       "      <th>3</th>\n",
       "      <td>09/09/1913</td>\n",
       "      <td>Over the North Sea</td>\n",
       "      <td>Military - German Navy</td>\n",
       "      <td>Zeppelin L-1 (airship)</td>\n",
       "      <td>20.0</td>\n",
       "      <td>14.0</td>\n",
       "      <td>0.0</td>\n",
       "    </tr>\n",
       "    <tr>\n",
       "      <th>4</th>\n",
       "      <td>10/17/1913</td>\n",
       "      <td>Near Johannisthal, Germany</td>\n",
       "      <td>Military - German Navy</td>\n",
       "      <td>Zeppelin L-2 (airship)</td>\n",
       "      <td>30.0</td>\n",
       "      <td>30.0</td>\n",
       "      <td>0.0</td>\n",
       "    </tr>\n",
       "    <tr>\n",
       "      <th>...</th>\n",
       "      <td>...</td>\n",
       "      <td>...</td>\n",
       "      <td>...</td>\n",
       "      <td>...</td>\n",
       "      <td>...</td>\n",
       "      <td>...</td>\n",
       "      <td>...</td>\n",
       "    </tr>\n",
       "    <tr>\n",
       "      <th>5263</th>\n",
       "      <td>05/20/2009</td>\n",
       "      <td>Near Madiun, Indonesia</td>\n",
       "      <td>Military - Indonesian Air Force</td>\n",
       "      <td>Lockheed C-130 Hercules</td>\n",
       "      <td>112.0</td>\n",
       "      <td>98.0</td>\n",
       "      <td>2.0</td>\n",
       "    </tr>\n",
       "    <tr>\n",
       "      <th>5264</th>\n",
       "      <td>05/26/2009</td>\n",
       "      <td>Near Isiro, DemocratiRepubliCongo</td>\n",
       "      <td>Service Air</td>\n",
       "      <td>Antonov An-26</td>\n",
       "      <td>4.0</td>\n",
       "      <td>4.0</td>\n",
       "      <td>NaN</td>\n",
       "    </tr>\n",
       "    <tr>\n",
       "      <th>5265</th>\n",
       "      <td>06/01/2009</td>\n",
       "      <td>AtlantiOcean, 570 miles northeast of Natal, Br...</td>\n",
       "      <td>Air France</td>\n",
       "      <td>Airbus A330-203</td>\n",
       "      <td>228.0</td>\n",
       "      <td>228.0</td>\n",
       "      <td>0.0</td>\n",
       "    </tr>\n",
       "    <tr>\n",
       "      <th>5266</th>\n",
       "      <td>06/07/2009</td>\n",
       "      <td>Near Port Hope Simpson, Newfoundland, Canada</td>\n",
       "      <td>Strait Air</td>\n",
       "      <td>Britten-Norman BN-2A-27 Islander</td>\n",
       "      <td>1.0</td>\n",
       "      <td>1.0</td>\n",
       "      <td>0.0</td>\n",
       "    </tr>\n",
       "    <tr>\n",
       "      <th>5267</th>\n",
       "      <td>06/08/2009</td>\n",
       "      <td>State of Arunachal Pradesh, India</td>\n",
       "      <td>Military - Indian Air Force</td>\n",
       "      <td>Antonov An-32</td>\n",
       "      <td>13.0</td>\n",
       "      <td>13.0</td>\n",
       "      <td>0.0</td>\n",
       "    </tr>\n",
       "  </tbody>\n",
       "</table>\n",
       "<p>5268 rows × 7 columns</p>\n",
       "</div>"
      ],
      "text/plain": [
       "            Date                                           Location  \\\n",
       "0     09/17/1908                                Fort Myer, Virginia   \n",
       "1     07/12/1912                            AtlantiCity, New Jersey   \n",
       "2     08/06/1913                 Victoria, British Columbia, Canada   \n",
       "3     09/09/1913                                 Over the North Sea   \n",
       "4     10/17/1913                         Near Johannisthal, Germany   \n",
       "...          ...                                                ...   \n",
       "5263  05/20/2009                             Near Madiun, Indonesia   \n",
       "5264  05/26/2009                  Near Isiro, DemocratiRepubliCongo   \n",
       "5265  06/01/2009  AtlantiOcean, 570 miles northeast of Natal, Br...   \n",
       "5266  06/07/2009       Near Port Hope Simpson, Newfoundland, Canada   \n",
       "5267  06/08/2009                  State of Arunachal Pradesh, India   \n",
       "\n",
       "                             Operator                              Type  \\\n",
       "0                Military - U.S. Army                  Wright Flyer III   \n",
       "1                Military - U.S. Navy                         Dirigible   \n",
       "2                             Private                  Curtiss seaplane   \n",
       "3              Military - German Navy            Zeppelin L-1 (airship)   \n",
       "4              Military - German Navy            Zeppelin L-2 (airship)   \n",
       "...                               ...                               ...   \n",
       "5263  Military - Indonesian Air Force           Lockheed C-130 Hercules   \n",
       "5264                      Service Air                     Antonov An-26   \n",
       "5265                       Air France                   Airbus A330-203   \n",
       "5266                       Strait Air  Britten-Norman BN-2A-27 Islander   \n",
       "5267      Military - Indian Air Force                     Antonov An-32   \n",
       "\n",
       "      Aboard  Fatalities  Ground  \n",
       "0        2.0         1.0     0.0  \n",
       "1        5.0         5.0     0.0  \n",
       "2        1.0         1.0     0.0  \n",
       "3       20.0        14.0     0.0  \n",
       "4       30.0        30.0     0.0  \n",
       "...      ...         ...     ...  \n",
       "5263   112.0        98.0     2.0  \n",
       "5264     4.0         4.0     NaN  \n",
       "5265   228.0       228.0     0.0  \n",
       "5266     1.0         1.0     0.0  \n",
       "5267    13.0        13.0     0.0  \n",
       "\n",
       "[5268 rows x 7 columns]"
      ]
     },
     "execution_count": 5,
     "metadata": {},
     "output_type": "execute_result"
    }
   ],
   "source": [
    "airplanes = airplanes_dataset.drop(columns=['Time', 'Flight #', 'Route', 'Registration', 'cn/In', 'Summary'])\n",
    "airplanes"
   ]
  },
  {
   "cell_type": "markdown",
   "metadata": {},
   "source": [
    "## Data Visualisation And Answers To The Research Questions\n",
    "\n",
    "### 1. In which year were the most airplane crashes?\n",
    "\n",
    "The datetype of the column \"Date\" is currently an object and not a datetime. In order to extract the year from <code>pandas</code> this needs to be converted first to the correct datetype. Important to note that in the Section Data Exploration, you can see that the \"Date\" column has zero null values, so this column can be used, without cleaning. "
   ]
  },
  {
   "cell_type": "code",
   "execution_count": 6,
   "metadata": {},
   "outputs": [],
   "source": [
    "for columnn in airplanes.columns:                              \n",
    "    if airplanes[columnn].dtype == 'object':         # loop through the columns of DataFrame airplanes and check if the dtype is object \n",
    "        try:                                         # the try statement can handle any exceptions or errors that occur\n",
    "            airplanes[columnn] = pd.to_datetime(airplanes[columnn]) #change the column type into a datetime dtype\n",
    "        except ValueError:\n",
    "            pass"
   ]
  },
  {
   "cell_type": "markdown",
   "metadata": {},
   "source": [
    "To check whether the type of the data in the column \"Date\" has changed I will print the following again:"
   ]
  },
  {
   "cell_type": "code",
   "execution_count": 7,
   "metadata": {},
   "outputs": [
    {
     "name": "stdout",
     "output_type": "stream",
     "text": [
      "<class 'pandas.core.frame.DataFrame'>\n",
      "RangeIndex: 5268 entries, 0 to 5267\n",
      "Data columns (total 7 columns):\n",
      " #   Column      Non-Null Count  Dtype         \n",
      "---  ------      --------------  -----         \n",
      " 0   Date        5268 non-null   datetime64[ns]\n",
      " 1   Location    5248 non-null   object        \n",
      " 2   Operator    5250 non-null   object        \n",
      " 3   Type        5241 non-null   object        \n",
      " 4   Aboard      5246 non-null   float64       \n",
      " 5   Fatalities  5256 non-null   float64       \n",
      " 6   Ground      5246 non-null   float64       \n",
      "dtypes: datetime64[ns](1), float64(3), object(3)\n",
      "memory usage: 288.2+ KB\n"
     ]
    }
   ],
   "source": [
    "airplanes.info()"
   ]
  },
  {
   "cell_type": "markdown",
   "metadata": {},
   "source": [
    "A new column called \"Year\" will be added at the end."
   ]
  },
  {
   "cell_type": "code",
   "execution_count": 8,
   "metadata": {},
   "outputs": [
    {
     "data": {
      "text/html": [
       "<div>\n",
       "<style scoped>\n",
       "    .dataframe tbody tr th:only-of-type {\n",
       "        vertical-align: middle;\n",
       "    }\n",
       "\n",
       "    .dataframe tbody tr th {\n",
       "        vertical-align: top;\n",
       "    }\n",
       "\n",
       "    .dataframe thead th {\n",
       "        text-align: right;\n",
       "    }\n",
       "</style>\n",
       "<table border=\"1\" class=\"dataframe\">\n",
       "  <thead>\n",
       "    <tr style=\"text-align: right;\">\n",
       "      <th></th>\n",
       "      <th>Date</th>\n",
       "      <th>Location</th>\n",
       "      <th>Operator</th>\n",
       "      <th>Type</th>\n",
       "      <th>Aboard</th>\n",
       "      <th>Fatalities</th>\n",
       "      <th>Ground</th>\n",
       "      <th>Year</th>\n",
       "    </tr>\n",
       "  </thead>\n",
       "  <tbody>\n",
       "    <tr>\n",
       "      <th>0</th>\n",
       "      <td>1908-09-17</td>\n",
       "      <td>Fort Myer, Virginia</td>\n",
       "      <td>Military - U.S. Army</td>\n",
       "      <td>Wright Flyer III</td>\n",
       "      <td>2.0</td>\n",
       "      <td>1.0</td>\n",
       "      <td>0.0</td>\n",
       "      <td>1908</td>\n",
       "    </tr>\n",
       "    <tr>\n",
       "      <th>1</th>\n",
       "      <td>1912-07-12</td>\n",
       "      <td>AtlantiCity, New Jersey</td>\n",
       "      <td>Military - U.S. Navy</td>\n",
       "      <td>Dirigible</td>\n",
       "      <td>5.0</td>\n",
       "      <td>5.0</td>\n",
       "      <td>0.0</td>\n",
       "      <td>1912</td>\n",
       "    </tr>\n",
       "    <tr>\n",
       "      <th>2</th>\n",
       "      <td>1913-08-06</td>\n",
       "      <td>Victoria, British Columbia, Canada</td>\n",
       "      <td>Private</td>\n",
       "      <td>Curtiss seaplane</td>\n",
       "      <td>1.0</td>\n",
       "      <td>1.0</td>\n",
       "      <td>0.0</td>\n",
       "      <td>1913</td>\n",
       "    </tr>\n",
       "    <tr>\n",
       "      <th>3</th>\n",
       "      <td>1913-09-09</td>\n",
       "      <td>Over the North Sea</td>\n",
       "      <td>Military - German Navy</td>\n",
       "      <td>Zeppelin L-1 (airship)</td>\n",
       "      <td>20.0</td>\n",
       "      <td>14.0</td>\n",
       "      <td>0.0</td>\n",
       "      <td>1913</td>\n",
       "    </tr>\n",
       "    <tr>\n",
       "      <th>4</th>\n",
       "      <td>1913-10-17</td>\n",
       "      <td>Near Johannisthal, Germany</td>\n",
       "      <td>Military - German Navy</td>\n",
       "      <td>Zeppelin L-2 (airship)</td>\n",
       "      <td>30.0</td>\n",
       "      <td>30.0</td>\n",
       "      <td>0.0</td>\n",
       "      <td>1913</td>\n",
       "    </tr>\n",
       "  </tbody>\n",
       "</table>\n",
       "</div>"
      ],
      "text/plain": [
       "        Date                            Location                Operator  \\\n",
       "0 1908-09-17                 Fort Myer, Virginia    Military - U.S. Army   \n",
       "1 1912-07-12             AtlantiCity, New Jersey    Military - U.S. Navy   \n",
       "2 1913-08-06  Victoria, British Columbia, Canada                 Private   \n",
       "3 1913-09-09                  Over the North Sea  Military - German Navy   \n",
       "4 1913-10-17          Near Johannisthal, Germany  Military - German Navy   \n",
       "\n",
       "                     Type  Aboard  Fatalities  Ground  Year  \n",
       "0        Wright Flyer III     2.0         1.0     0.0  1908  \n",
       "1               Dirigible     5.0         5.0     0.0  1912  \n",
       "2        Curtiss seaplane     1.0         1.0     0.0  1913  \n",
       "3  Zeppelin L-1 (airship)    20.0        14.0     0.0  1913  \n",
       "4  Zeppelin L-2 (airship)    30.0        30.0     0.0  1913  "
      ]
     },
     "execution_count": 8,
     "metadata": {},
     "output_type": "execute_result"
    }
   ],
   "source": [
    "airplanes['Year'] = pd.DatetimeIndex(airplanes['Date']).year\n",
    "# airplanes['Month'] = pd.DatetimeIndex(airplanes['Date']).month #extra column, not needed for this research question\n",
    "airplanes.head()"
   ]
  },
  {
   "cell_type": "markdown",
   "metadata": {},
   "source": [
    "In the table above we can see that two new columns have been added at the end named \"Year\" and Month. I have added the \"Month\" column as extra, since it may also show some interesting insights. To answer the first RQ I will make use of <code>pandas.Series.value_counts</code>."
   ]
  },
  {
   "cell_type": "code",
   "execution_count": 9,
   "metadata": {},
   "outputs": [
    {
     "data": {
      "text/plain": [
       "1972    104\n",
       "1968     96\n",
       "1989     95\n",
       "1967     91\n",
       "1979     89\n",
       "1973     89\n",
       "1991     88\n",
       "1970     87\n",
       "1994     87\n",
       "1976     86\n",
       "Name: Year, dtype: int64"
      ]
     },
     "execution_count": 9,
     "metadata": {},
     "output_type": "execute_result"
    }
   ],
   "source": [
    "airplanes.Year.value_counts()[:10] #to answer RQ1 I am not interested in all the years, so only the top 10 years of the most accidents are shown\n",
    "# airplanes.Month.value_counts()[:5] #(not needed for RQ1)"
   ]
  },
  {
   "cell_type": "markdown",
   "metadata": {},
   "source": [
    "To visualise this I will make use of <code>seaborn.histplot</code>. In the output above, according to the dataset the most crashes happened in 1972. This can also be seen in the visualisation Fig.1."
   ]
  },
  {
   "cell_type": "code",
   "execution_count": 10,
   "metadata": {},
   "outputs": [
    {
     "data": {
      "image/png": "[encoded data removed]",
      "text/plain": [
       "<Figure size 1080x360 with 1 Axes>"
      ]
     },
     "metadata": {
      "needs_background": "light"
     },
     "output_type": "display_data"
    }
   ],
   "source": [
    "plt.figure(figsize=(15, 5))\n",
    "per_year_plot = sns.histplot(data = airplanes, x = 'Year', bins = 100, color = \"seagreen\")\n",
    "per_year_plot.set(title = \"Fig. 1: Crashes per year\")\n",
    "fig = per_year_plot.get_figure()\n",
    "fig.savefig('per_year_plot.png')\n",
    "\n",
    "# per_month_plot = sns.histplot(data = airplanes, x = 'Month', bins = 12) #(not needed for RQ1)\n",
    "# per_month_plot.set(title = \"Crashes per month\")"
   ]
  },
  {
   "cell_type": "markdown",
   "metadata": {},
   "source": [
    "### 2. Which top three airplane models have caused the most crashes and which airplane model the most fatalities?\n",
    "\n",
    "In the Section Data Exploration you can see that the \"Type\" column that describes the airplane model has 27 null values, these will be removed first."
   ]
  },
  {
   "cell_type": "code",
   "execution_count": 11,
   "metadata": {},
   "outputs": [
    {
     "data": {
      "text/plain": [
       "0"
      ]
     },
     "execution_count": 11,
     "metadata": {},
     "output_type": "execute_result"
    }
   ],
   "source": [
    "# check_nan_for_Type = airplanes['Type'].isnull().sum() # double check the amount of null values in the column Type\n",
    "# check_nan_for_Type\n",
    "\n",
    "airplanes_Type = airplanes[airplanes['Type'].notna()]\n",
    "check_nan_again_for_Type = airplanes_Type['Type'].isnull().sum() # double check the amount of null values in the column Type will now be 0 instead of 27\n",
    "check_nan_again_for_Type #output should be equal to zero"
   ]
  },
  {
   "cell_type": "markdown",
   "metadata": {},
   "source": [
    "With the previous print statement you can see that there are 0 null values now in the column \"Type\". Now we can see wich airplane models have caused the most accidents."
   ]
  },
  {
   "cell_type": "code",
   "execution_count": 12,
   "metadata": {},
   "outputs": [
    {
     "data": {
      "text/plain": [
       "Douglas DC-3                                334\n",
       "de Havilland Canada DHC-6 Twin Otter 300     81\n",
       "Douglas C-47A                                74\n",
       "Name: Type, dtype: int64"
      ]
     },
     "execution_count": 12,
     "metadata": {},
     "output_type": "execute_result"
    }
   ],
   "source": [
    "airplanes_Type.Type.value_counts()[:3] # top 3 of airplane models that have cause the most accidents\n",
    "# airplanes_Type.Type.value_counts()[:10]"
   ]
  },
  {
   "cell_type": "markdown",
   "metadata": {},
   "source": [
    "The answer to which airplane models have caused the most crashes: \n",
    "1. Douglas DC-3 \n",
    "2. de Havilland Canada DHC-6 Twin Otter 300 \n",
    "3. Douglas C-47A  \n",
    "\n",
    "The airplanes are pictured below from left to right. \n",
    "\n",
    "<img src=\"DouglasDC3.jpeg\" width=\"300\" height=\"200\">\n",
    "<img src=\"De_Havilland_Canada.jpeg\" width=\"300\" height=\"200\">\n",
    "<img src=\"DouglasC-47A.jpeg\" width=\"300\" height=\"200\">\n",
    "\n",
    "\n",
    "But now, which airplane model has caused the most fatalities? "
   ]
  },
  {
   "cell_type": "code",
   "execution_count": 13,
   "metadata": {},
   "outputs": [
    {
     "data": {
      "text/html": [
       "<div>\n",
       "<style scoped>\n",
       "    .dataframe tbody tr th:only-of-type {\n",
       "        vertical-align: middle;\n",
       "    }\n",
       "\n",
       "    .dataframe tbody tr th {\n",
       "        vertical-align: top;\n",
       "    }\n",
       "\n",
       "    .dataframe thead th {\n",
       "        text-align: right;\n",
       "    }\n",
       "</style>\n",
       "<table border=\"1\" class=\"dataframe\">\n",
       "  <thead>\n",
       "    <tr style=\"text-align: right;\">\n",
       "      <th></th>\n",
       "      <th>Fatalities</th>\n",
       "    </tr>\n",
       "    <tr>\n",
       "      <th>Type</th>\n",
       "      <th></th>\n",
       "    </tr>\n",
       "  </thead>\n",
       "  <tbody>\n",
       "    <tr>\n",
       "      <th>Douglas DC-3</th>\n",
       "      <td>4793.0</td>\n",
       "    </tr>\n",
       "    <tr>\n",
       "      <th>Antonov AN-26</th>\n",
       "      <td>1068.0</td>\n",
       "    </tr>\n",
       "    <tr>\n",
       "      <th>Douglas DC-6B</th>\n",
       "      <td>1055.0</td>\n",
       "    </tr>\n",
       "    <tr>\n",
       "      <th>Douglas C-47</th>\n",
       "      <td>1046.0</td>\n",
       "    </tr>\n",
       "    <tr>\n",
       "      <th>McDonnell Douglas DC-9-32</th>\n",
       "      <td>951.0</td>\n",
       "    </tr>\n",
       "    <tr>\n",
       "      <th>Douglas DC-4</th>\n",
       "      <td>930.0</td>\n",
       "    </tr>\n",
       "    <tr>\n",
       "      <th>Ilyushin IL-18B</th>\n",
       "      <td>852.0</td>\n",
       "    </tr>\n",
       "    <tr>\n",
       "      <th>Yakovlev YAK-40</th>\n",
       "      <td>834.0</td>\n",
       "    </tr>\n",
       "    <tr>\n",
       "      <th>Tupolev TU-134A</th>\n",
       "      <td>809.0</td>\n",
       "    </tr>\n",
       "    <tr>\n",
       "      <th>McDonnell Douglas DC-10-10</th>\n",
       "      <td>804.0</td>\n",
       "    </tr>\n",
       "  </tbody>\n",
       "</table>\n",
       "</div>"
      ],
      "text/plain": [
       "                            Fatalities\n",
       "Type                                  \n",
       "Douglas DC-3                    4793.0\n",
       "Antonov AN-26                   1068.0\n",
       "Douglas DC-6B                   1055.0\n",
       "Douglas C-47                    1046.0\n",
       "McDonnell Douglas DC-9-32        951.0\n",
       "Douglas DC-4                     930.0\n",
       "Ilyushin IL-18B                  852.0\n",
       "Yakovlev YAK-40                  834.0\n",
       "Tupolev TU-134A                  809.0\n",
       "McDonnell Douglas DC-10-10       804.0"
      ]
     },
     "execution_count": 13,
     "metadata": {},
     "output_type": "execute_result"
    }
   ],
   "source": [
    "airplanes_type_fatal = airplanes_Type.groupby('Type')[['Fatalities']].sum() #first amount of fatalities per airplane type are summed\n",
    "airplanes_type_fatal = airplanes_type_fatal.rename(columns={'Type': 'Fatalities'})\n",
    "airplanes_type_fatal = airplanes_type_fatal.sort_values(by='Fatalities', ascending=False)\n",
    "airplanes_type_fatal_top10 = airplanes_type_fatal.head(10) \n",
    "\n",
    "airplanes_type_fatal_top10 #will print the top 10 airplane models that have caused the most fatalities"
   ]
  },
  {
   "cell_type": "markdown",
   "metadata": {},
   "source": [
    "In the table above you can see the top 10 of Fatalities per Airplane Model. According to the data the Douglas DC-3 has also caused the most fatalities. Important to note that whether an airplane model has crashed the most often does not automatically mean it has also has the highest amount of fatalities. For example, number 2 of this list is the Antonov AN-26 model, which was on the 7th place of most crashes (36 crashes in total). This can be seen when you print <code>airplanes_Type.Type.value_counts()[:10]</code>\n",
    "\n",
    "To visualise these results, I will use <code>seaborn.barplot</code>, see Figure 2."
   ]
  },
  {
   "cell_type": "code",
   "execution_count": 14,
   "metadata": {},
   "outputs": [
    {
     "data": {
      "image/png": "[encoded data removed]",
      "text/plain": [
       "<Figure size 1080x360 with 1 Axes>"
      ]
     },
     "metadata": {
      "needs_background": "light"
     },
     "output_type": "display_data"
    }
   ],
   "source": [
    "plt.figure(figsize=(15, 5))\n",
    "sns.barplot(y=airplanes_type_fatal_top10.index, x=\"Fatalities\", data=airplanes_type_fatal_top10, palette=\"pastel\")\n",
    "plt.xlabel('Total Fatalities')\n",
    "plt.ylabel('Airplane Model')\n",
    "plt.title('Total fatalities per airplane model')\n",
    "plt.show()"
   ]
  },
  {
   "cell_type": "markdown",
   "metadata": {},
   "source": [
    "### 3. Which airline has caused the most death?\n",
    "\n",
    "In this specific case, the total amount of death can be calculated by adding two columns together. According to the data, when comparing the column \"Aboard\" with \"Fatalities\", not all passengers on each airplane crash have died. I will only add the column \"Fatalities\" to the column \"Ground\", since some crashes also killed people who were on the ground when the plane crashed.\n",
    "\n",
    "The column \"Fatalities\" has 12 null values and the column \"Ground\" has 22 null values that will be removed first."
   ]
  },
  {
   "cell_type": "code",
   "execution_count": 15,
   "metadata": {},
   "outputs": [],
   "source": [
    "airplanes = airplanes[airplanes['Fatalities'].notna()]\n",
    "airplanes = airplanes[airplanes['Ground'].notna()]"
   ]
  },
  {
   "cell_type": "markdown",
   "metadata": {},
   "source": [
    "Now a new column will be made with the total amount of death of each crash."
   ]
  },
  {
   "cell_type": "code",
   "execution_count": 16,
   "metadata": {},
   "outputs": [
    {
     "data": {
      "text/html": [
       "<div>\n",
       "<style scoped>\n",
       "    .dataframe tbody tr th:only-of-type {\n",
       "        vertical-align: middle;\n",
       "    }\n",
       "\n",
       "    .dataframe tbody tr th {\n",
       "        vertical-align: top;\n",
       "    }\n",
       "\n",
       "    .dataframe thead th {\n",
       "        text-align: right;\n",
       "    }\n",
       "</style>\n",
       "<table border=\"1\" class=\"dataframe\">\n",
       "  <thead>\n",
       "    <tr style=\"text-align: right;\">\n",
       "      <th></th>\n",
       "      <th>Date</th>\n",
       "      <th>Location</th>\n",
       "      <th>Operator</th>\n",
       "      <th>Type</th>\n",
       "      <th>Aboard</th>\n",
       "      <th>Fatalities</th>\n",
       "      <th>Ground</th>\n",
       "      <th>Year</th>\n",
       "      <th>Total Death</th>\n",
       "    </tr>\n",
       "  </thead>\n",
       "  <tbody>\n",
       "    <tr>\n",
       "      <th>0</th>\n",
       "      <td>1908-09-17</td>\n",
       "      <td>Fort Myer, Virginia</td>\n",
       "      <td>Military - U.S. Army</td>\n",
       "      <td>Wright Flyer III</td>\n",
       "      <td>2.0</td>\n",
       "      <td>1.0</td>\n",
       "      <td>0.0</td>\n",
       "      <td>1908</td>\n",
       "      <td>1.0</td>\n",
       "    </tr>\n",
       "    <tr>\n",
       "      <th>1</th>\n",
       "      <td>1912-07-12</td>\n",
       "      <td>AtlantiCity, New Jersey</td>\n",
       "      <td>Military - U.S. Navy</td>\n",
       "      <td>Dirigible</td>\n",
       "      <td>5.0</td>\n",
       "      <td>5.0</td>\n",
       "      <td>0.0</td>\n",
       "      <td>1912</td>\n",
       "      <td>5.0</td>\n",
       "    </tr>\n",
       "    <tr>\n",
       "      <th>2</th>\n",
       "      <td>1913-08-06</td>\n",
       "      <td>Victoria, British Columbia, Canada</td>\n",
       "      <td>Private</td>\n",
       "      <td>Curtiss seaplane</td>\n",
       "      <td>1.0</td>\n",
       "      <td>1.0</td>\n",
       "      <td>0.0</td>\n",
       "      <td>1913</td>\n",
       "      <td>1.0</td>\n",
       "    </tr>\n",
       "    <tr>\n",
       "      <th>3</th>\n",
       "      <td>1913-09-09</td>\n",
       "      <td>Over the North Sea</td>\n",
       "      <td>Military - German Navy</td>\n",
       "      <td>Zeppelin L-1 (airship)</td>\n",
       "      <td>20.0</td>\n",
       "      <td>14.0</td>\n",
       "      <td>0.0</td>\n",
       "      <td>1913</td>\n",
       "      <td>14.0</td>\n",
       "    </tr>\n",
       "    <tr>\n",
       "      <th>4</th>\n",
       "      <td>1913-10-17</td>\n",
       "      <td>Near Johannisthal, Germany</td>\n",
       "      <td>Military - German Navy</td>\n",
       "      <td>Zeppelin L-2 (airship)</td>\n",
       "      <td>30.0</td>\n",
       "      <td>30.0</td>\n",
       "      <td>0.0</td>\n",
       "      <td>1913</td>\n",
       "      <td>30.0</td>\n",
       "    </tr>\n",
       "  </tbody>\n",
       "</table>\n",
       "</div>"
      ],
      "text/plain": [
       "        Date                            Location                Operator  \\\n",
       "0 1908-09-17                 Fort Myer, Virginia    Military - U.S. Army   \n",
       "1 1912-07-12             AtlantiCity, New Jersey    Military - U.S. Navy   \n",
       "2 1913-08-06  Victoria, British Columbia, Canada                 Private   \n",
       "3 1913-09-09                  Over the North Sea  Military - German Navy   \n",
       "4 1913-10-17          Near Johannisthal, Germany  Military - German Navy   \n",
       "\n",
       "                     Type  Aboard  Fatalities  Ground  Year  Total Death  \n",
       "0        Wright Flyer III     2.0         1.0     0.0  1908          1.0  \n",
       "1               Dirigible     5.0         5.0     0.0  1912          5.0  \n",
       "2        Curtiss seaplane     1.0         1.0     0.0  1913          1.0  \n",
       "3  Zeppelin L-1 (airship)    20.0        14.0     0.0  1913         14.0  \n",
       "4  Zeppelin L-2 (airship)    30.0        30.0     0.0  1913         30.0  "
      ]
     },
     "execution_count": 16,
     "metadata": {},
     "output_type": "execute_result"
    }
   ],
   "source": [
    "airplanes[\"Total Death\"] = airplanes[\"Fatalities\"] + airplanes[\"Ground\"]\n",
    "airplanes.head()"
   ]
  },
  {
   "cell_type": "code",
   "execution_count": 17,
   "metadata": {},
   "outputs": [
    {
     "data": {
      "text/html": [
       "<div>\n",
       "<style scoped>\n",
       "    .dataframe tbody tr th:only-of-type {\n",
       "        vertical-align: middle;\n",
       "    }\n",
       "\n",
       "    .dataframe tbody tr th {\n",
       "        vertical-align: top;\n",
       "    }\n",
       "\n",
       "    .dataframe thead th {\n",
       "        text-align: right;\n",
       "    }\n",
       "</style>\n",
       "<table border=\"1\" class=\"dataframe\">\n",
       "  <thead>\n",
       "    <tr style=\"text-align: right;\">\n",
       "      <th></th>\n",
       "      <th>Total Death</th>\n",
       "    </tr>\n",
       "    <tr>\n",
       "      <th>Operator</th>\n",
       "      <th></th>\n",
       "    </tr>\n",
       "  </thead>\n",
       "  <tbody>\n",
       "    <tr>\n",
       "      <th>Aeroflot</th>\n",
       "      <td>7184.0</td>\n",
       "    </tr>\n",
       "    <tr>\n",
       "      <th>American Airlines</th>\n",
       "      <td>4310.0</td>\n",
       "    </tr>\n",
       "    <tr>\n",
       "      <th>Military - U.S. Air Force</th>\n",
       "      <td>3866.0</td>\n",
       "    </tr>\n",
       "    <tr>\n",
       "      <th>United Air Lines</th>\n",
       "      <td>3770.0</td>\n",
       "    </tr>\n",
       "    <tr>\n",
       "      <th>Air France</th>\n",
       "      <td>1739.0</td>\n",
       "    </tr>\n",
       "    <tr>\n",
       "      <th>Pan American World Airways</th>\n",
       "      <td>1322.0</td>\n",
       "    </tr>\n",
       "    <tr>\n",
       "      <th>Military - U.S. Army Air Forces</th>\n",
       "      <td>1150.0</td>\n",
       "    </tr>\n",
       "    <tr>\n",
       "      <th>AVIANCA</th>\n",
       "      <td>944.0</td>\n",
       "    </tr>\n",
       "    <tr>\n",
       "      <th>Turkish Airlines (THY)</th>\n",
       "      <td>891.0</td>\n",
       "    </tr>\n",
       "    <tr>\n",
       "      <th>Indian Airlines</th>\n",
       "      <td>870.0</td>\n",
       "    </tr>\n",
       "  </tbody>\n",
       "</table>\n",
       "</div>"
      ],
      "text/plain": [
       "                                 Total Death\n",
       "Operator                                    \n",
       "Aeroflot                              7184.0\n",
       "American Airlines                     4310.0\n",
       "Military - U.S. Air Force             3866.0\n",
       "United Air Lines                      3770.0\n",
       "Air France                            1739.0\n",
       "Pan American World Airways            1322.0\n",
       "Military - U.S. Army Air Forces       1150.0\n",
       "AVIANCA                                944.0\n",
       "Turkish Airlines (THY)                 891.0\n",
       "Indian Airlines                        870.0"
      ]
     },
     "execution_count": 17,
     "metadata": {},
     "output_type": "execute_result"
    }
   ],
   "source": [
    "airplanes_death_airline = airplanes.groupby('Operator')[['Total Death']].sum() \n",
    "airplanes_death_airline = airplanes_death_airline.rename(columns={\"Operator\": \"Total Death\"})\n",
    "airplanes_death_airline = airplanes_death_airline.sort_values(by='Total Death', ascending=False)\n",
    "airplanes_death_airline_top10 = airplanes_death_airline.head(10)\n",
    "\n",
    "airplanes_death_airline_top10"
   ]
  },
  {
   "cell_type": "markdown",
   "metadata": {},
   "source": [
    "In the table above you can see the top 10 of Total Death per Operator. According to the data the Aeroflot has caused the most Total Death, 7184 to be precise. \n",
    "\n",
    "To showcase these results, I will use <code>seaborn.barplot</code> again, see Figure 3."
   ]
  },
  {
   "cell_type": "code",
   "execution_count": 18,
   "metadata": {},
   "outputs": [
    {
     "data": {
      "image/png": "[encoded data removed]",
      "text/plain": [
       "<Figure size 1080x360 with 1 Axes>"
      ]
     },
     "metadata": {
      "needs_background": "light"
     },
     "output_type": "display_data"
    }
   ],
   "source": [
    "plt.figure(figsize=(15, 5))\n",
    "sns.barplot(y=airplanes_death_airline_top10.index, x=\"Total Death\", data=airplanes_death_airline_top10, palette=\"pastel\")\n",
    "plt.xlabel('Total Death')\n",
    "plt.ylabel('Airline Operator')\n",
    "plt.title('Fig. 3: Total death per airline operator')\n",
    "plt.show()"
   ]
  },
  {
   "cell_type": "markdown",
   "metadata": {},
   "source": [
    "### 4. What are the chances of surviving an airplane crashes? (a.k.a: What is the survival rate of airplane crashes?)\n",
    "\n",
    "First the null values have to be removed from the column \"Aboard\" and then a new column will be created where the survival rate will be displayed. In this case I will only take the column \"Fatalities\" and \"Aboard\" into account, since the question is focused on surviving an airplane crash if you are inside of the airplane. \n",
    "\n",
    "The survival rate is calculated by dividing the amount Aboard minus the Fatalities by Aboard times 100, to calculate the percentage."
   ]
  },
  {
   "cell_type": "code",
   "execution_count": 19,
   "metadata": {},
   "outputs": [
    {
     "data": {
      "text/html": [
       "<div>\n",
       "<style scoped>\n",
       "    .dataframe tbody tr th:only-of-type {\n",
       "        vertical-align: middle;\n",
       "    }\n",
       "\n",
       "    .dataframe tbody tr th {\n",
       "        vertical-align: top;\n",
       "    }\n",
       "\n",
       "    .dataframe thead th {\n",
       "        text-align: right;\n",
       "    }\n",
       "</style>\n",
       "<table border=\"1\" class=\"dataframe\">\n",
       "  <thead>\n",
       "    <tr style=\"text-align: right;\">\n",
       "      <th></th>\n",
       "      <th>Date</th>\n",
       "      <th>Location</th>\n",
       "      <th>Operator</th>\n",
       "      <th>Type</th>\n",
       "      <th>Aboard</th>\n",
       "      <th>Fatalities</th>\n",
       "      <th>Ground</th>\n",
       "      <th>Year</th>\n",
       "      <th>Total Death</th>\n",
       "      <th>Survivors</th>\n",
       "      <th>Survival Chances</th>\n",
       "    </tr>\n",
       "  </thead>\n",
       "  <tbody>\n",
       "    <tr>\n",
       "      <th>0</th>\n",
       "      <td>1908-09-17</td>\n",
       "      <td>Fort Myer, Virginia</td>\n",
       "      <td>Military - U.S. Army</td>\n",
       "      <td>Wright Flyer III</td>\n",
       "      <td>2.0</td>\n",
       "      <td>1.0</td>\n",
       "      <td>0.0</td>\n",
       "      <td>1908</td>\n",
       "      <td>1.0</td>\n",
       "      <td>1.0</td>\n",
       "      <td>50.0</td>\n",
       "    </tr>\n",
       "    <tr>\n",
       "      <th>1</th>\n",
       "      <td>1912-07-12</td>\n",
       "      <td>AtlantiCity, New Jersey</td>\n",
       "      <td>Military - U.S. Navy</td>\n",
       "      <td>Dirigible</td>\n",
       "      <td>5.0</td>\n",
       "      <td>5.0</td>\n",
       "      <td>0.0</td>\n",
       "      <td>1912</td>\n",
       "      <td>5.0</td>\n",
       "      <td>0.0</td>\n",
       "      <td>0.0</td>\n",
       "    </tr>\n",
       "    <tr>\n",
       "      <th>2</th>\n",
       "      <td>1913-08-06</td>\n",
       "      <td>Victoria, British Columbia, Canada</td>\n",
       "      <td>Private</td>\n",
       "      <td>Curtiss seaplane</td>\n",
       "      <td>1.0</td>\n",
       "      <td>1.0</td>\n",
       "      <td>0.0</td>\n",
       "      <td>1913</td>\n",
       "      <td>1.0</td>\n",
       "      <td>0.0</td>\n",
       "      <td>0.0</td>\n",
       "    </tr>\n",
       "    <tr>\n",
       "      <th>3</th>\n",
       "      <td>1913-09-09</td>\n",
       "      <td>Over the North Sea</td>\n",
       "      <td>Military - German Navy</td>\n",
       "      <td>Zeppelin L-1 (airship)</td>\n",
       "      <td>20.0</td>\n",
       "      <td>14.0</td>\n",
       "      <td>0.0</td>\n",
       "      <td>1913</td>\n",
       "      <td>14.0</td>\n",
       "      <td>6.0</td>\n",
       "      <td>30.0</td>\n",
       "    </tr>\n",
       "    <tr>\n",
       "      <th>4</th>\n",
       "      <td>1913-10-17</td>\n",
       "      <td>Near Johannisthal, Germany</td>\n",
       "      <td>Military - German Navy</td>\n",
       "      <td>Zeppelin L-2 (airship)</td>\n",
       "      <td>30.0</td>\n",
       "      <td>30.0</td>\n",
       "      <td>0.0</td>\n",
       "      <td>1913</td>\n",
       "      <td>30.0</td>\n",
       "      <td>0.0</td>\n",
       "      <td>0.0</td>\n",
       "    </tr>\n",
       "  </tbody>\n",
       "</table>\n",
       "</div>"
      ],
      "text/plain": [
       "        Date                            Location                Operator  \\\n",
       "0 1908-09-17                 Fort Myer, Virginia    Military - U.S. Army   \n",
       "1 1912-07-12             AtlantiCity, New Jersey    Military - U.S. Navy   \n",
       "2 1913-08-06  Victoria, British Columbia, Canada                 Private   \n",
       "3 1913-09-09                  Over the North Sea  Military - German Navy   \n",
       "4 1913-10-17          Near Johannisthal, Germany  Military - German Navy   \n",
       "\n",
       "                     Type  Aboard  Fatalities  Ground  Year  Total Death  \\\n",
       "0        Wright Flyer III     2.0         1.0     0.0  1908          1.0   \n",
       "1               Dirigible     5.0         5.0     0.0  1912          5.0   \n",
       "2        Curtiss seaplane     1.0         1.0     0.0  1913          1.0   \n",
       "3  Zeppelin L-1 (airship)    20.0        14.0     0.0  1913         14.0   \n",
       "4  Zeppelin L-2 (airship)    30.0        30.0     0.0  1913         30.0   \n",
       "\n",
       "   Survivors  Survival Chances  \n",
       "0        1.0              50.0  \n",
       "1        0.0               0.0  \n",
       "2        0.0               0.0  \n",
       "3        6.0              30.0  \n",
       "4        0.0               0.0  "
      ]
     },
     "execution_count": 19,
     "metadata": {},
     "output_type": "execute_result"
    }
   ],
   "source": [
    "airplanes = airplanes[airplanes['Aboard'].notna()]\n",
    "airplanes['Survivors'] = airplanes['Aboard'] - airplanes['Fatalities'] # new column for amount of survivors per crash\n",
    "airplanes['Survival Chances'] = 100 * airplanes['Survivors'] / airplanes['Aboard'] # new column that shows the survival rate in percentages\n",
    "airplanes.head()"
   ]
  },
  {
   "cell_type": "markdown",
   "metadata": {},
   "source": [
    "The results will be visualised using <code>seaborn.lineplot</code>. In Figure 4 you can see a line chart with 95% confidence interval. This type of chart provides a data range, which can be useful when making predictions. In conclusion, the max percentage of surviving an airplane crash is 50%, but on average the survival chances are between 10% and 30% (see Figure 4). Note that the dataset does not include newer flights than 2009."
   ]
  },
  {
   "cell_type": "code",
   "execution_count": 20,
   "metadata": {},
   "outputs": [
    {
     "data": {
      "image/png": "[encoded data removed]",
      "text/plain": [
       "<Figure size 1080x360 with 1 Axes>"
      ]
     },
     "metadata": {
      "needs_background": "light"
     },
     "output_type": "display_data"
    }
   ],
   "source": [
    "# sns.relplot(x=\"Year\", y=\"Survival Chances\", data=airplanes)\n",
    "plt.figure(figsize=(15, 5))\n",
    "sns.lineplot(data = airplanes, x='Year', y='Survival Chances', color='cadetblue')\n",
    "plt.xlabel('Year')\n",
    "plt.ylabel('Survival Chance in percentages')\n",
    "plt.title('Fig. 4: Survival chance per year')\n",
    "plt.show()"
   ]
  },
  {
   "cell_type": "markdown",
   "metadata": {},
   "source": [
    "### 5. Are airplanes getting safer, e.g. less deaths and crashes?\n",
    "\n",
    "To answer this question, you can see in Fig. 1: Crashes per year, that the amount of crashes does not go down as the years pass by. Important to note is that the dataset that is used can be misleading, since the number of flights has also increased over the years. The dataset only includes crashes and not the actual amount of airplanes that have not crashed.\n",
    "\n",
    "According to [Statista](https://bit.ly/36JyWS8) the amount of flights have increased in 2009 from 25.9 to 38.9 million flights in 2019. This would mean that the chances of survival would also change. "
   ]
  }
 ],
 "metadata": {
  "kernelspec": {
   "display_name": "week10_challenge",
   "language": "python",
   "name": "week10_challenge"
  },
  "language_info": {
   "codemirror_mode": {
    "name": "ipython",
    "version": 3
   },
   "file_extension": ".py",
   "mimetype": "text/x-python",
   "name": "python",
   "nbconvert_exporter": "python",
   "pygments_lexer": "ipython3",
   "version": "3.10.2"
  },
  "orig_nbformat": 4
 },
 "nbformat": 4,
 "nbformat_minor": 2
}
